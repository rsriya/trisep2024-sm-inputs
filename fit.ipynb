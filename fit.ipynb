{
  "nbformat": 4,
  "nbformat_minor": 0,
  "metadata": {
    "colab": {
      "provenance": [],
      "authorship_tag": "ABX9TyNUM0YOaJ8gpECQ8sX1euav",
      "include_colab_link": true
    },
    "kernelspec": {
      "name": "python3",
      "display_name": "Python 3"
    },
    "language_info": {
      "name": "python"
    }
  },
  "cells": [
    {
      "cell_type": "markdown",
      "metadata": {
        "id": "view-in-github",
        "colab_type": "text"
      },
      "source": [
        "<a href=\"https://colab.research.google.com/github/rsriya/trisep2024-sm-inputs/blob/main/fit.ipynb\" target=\"_parent\"><img src=\"https://colab.research.google.com/assets/colab-badge.svg\" alt=\"Open In Colab\"/></a>"
      ]
    },
    {
      "cell_type": "code",
      "execution_count": null,
      "metadata": {
        "id": "AylDx8xrOuet"
      },
      "outputs": [],
      "source": [
        "# prompt: load .dat file\n",
        "\n",
        "import numpy as np\n",
        "\n",
        "data = np.loadtxt('data.dat', dtype=float)\n",
        "\n",
        "# Print the data\n",
        "print(data)\n"
      ]
    }
  ]
}