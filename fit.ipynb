{
  "nbformat": 4,
  "nbformat_minor": 0,
  "metadata": {
    "colab": {
      "provenance": [],
      "authorship_tag": "ABX9TyNls7iOFcvRHM+yndmD1+0j",
      "include_colab_link": true
    },
    "kernelspec": {
      "name": "python3",
      "display_name": "Python 3"
    },
    "language_info": {
      "name": "python"
    }
  },
  "cells": [
    {
      "cell_type": "markdown",
      "metadata": {
        "id": "view-in-github",
        "colab_type": "text"
      },
      "source": [
        "<a href=\"https://colab.research.google.com/github/rsriya/trisep2024-sm-inputs/blob/main/fit.ipynb\" target=\"_parent\"><img src=\"https://colab.research.google.com/assets/colab-badge.svg\" alt=\"Open In Colab\"/></a>"
      ]
    },
    {
      "cell_type": "code",
      "source": [
        "# prompt: In .dat file there are 2 values seperated by comma. The first row is name. But after that all the values are integers. I want to bin the first column.\n",
        "\n",
        "import numpy as np\n",
        "\n",
        "# Read the data from the .dat file\n",
        "data = np.loadtxt('/content/trisep2024-sm-inputs/muon_data_cleaned.dat', delimiter=',', dtype=str, skiprows=1)\n",
        "\n",
        "# Extract the first column\n",
        "lifetimes = data[:, 0].astype(int)\n",
        "print(lifetimes)"
      ],
      "metadata": {
        "id": "D7rkSy8YS1VC",
        "outputId": "b2cd4bf7-6e53-45dd-e675-6451e4c6a473",
        "colab": {
          "base_uri": "https://localhost:8080/"
        }
      },
      "execution_count": 17,
      "outputs": [
        {
          "output_type": "stream",
          "name": "stdout",
          "text": [
            "[1000 3240 3380 ... 2220  220 1560]\n"
          ]
        }
      ]
    },
    {
      "cell_type": "code",
      "source": [
        "len(lifetimes)"
      ],
      "metadata": {
        "id": "H9EWSanLVjGD",
        "outputId": "bace2f10-c4b6-49fd-c52d-aa0f0cceae78",
        "colab": {
          "base_uri": "https://localhost:8080/"
        }
      },
      "execution_count": 22,
      "outputs": [
        {
          "output_type": "execute_result",
          "data": {
            "text/plain": [
              "9751"
            ]
          },
          "metadata": {},
          "execution_count": 22
        }
      ]
    },
    {
      "cell_type": "code",
      "source": [
        "bin_edges = np.linspace(np.min(lifetimes), np.max(lifetimes), 25)\n",
        "bin_indices = np.digitize(lifetimes, bins=bin_edges)\n",
        "bin_lifetimes = [np.mean(lifetimes[bin_indices == i]) for i in range(1,len(bin_edges))]"
      ],
      "metadata": {
        "id": "QqgALdfGVXm3"
      },
      "execution_count": 40,
      "outputs": []
    },
    {
      "cell_type": "code",
      "source": [
        "# prompt: calculate the middle value of bin_edges\n",
        "\n",
        "plt.scatter(bin_edges[:-1], bin_lifetimes)\n"
      ],
      "metadata": {
        "id": "yleb1sx-WoYR"
      },
      "execution_count": null,
      "outputs": []
    },
    {
      "cell_type": "code",
      "source": [],
      "metadata": {
        "id": "lRiQ0-u6XaG9"
      },
      "execution_count": null,
      "outputs": []
    },
    {
      "cell_type": "code",
      "source": [
        "# prompt: I am interesested in only the first column which is lifetime. I want to first bin this data and fit an exponential curve through these bins.\n",
        "\n",
        "# Fit an exponential curve to the binned data\n",
        "from scipy.optimize import curve_fit\n",
        "\n",
        "def exponential_decay(x, a, b):\n",
        "  return a * np.exp(-b * x) + c\n",
        "bin_middles = (bin_edges[1:] + bin_edges[:-1]) / 2\n",
        "\n",
        "popt, pcov = curve_fit(exponential_decay, bin_middles, bin_lifetimes)\n",
        "\n",
        "# Print the fitted curve parameters\n",
        "print(\"Fitted parameters:\", popt)\n",
        "\n",
        "# Plot the data and the fitted curve\n",
        "import matplotlib.pyplot as plt\n",
        "\n",
        "plt.scatter(bin_edges[:-1], bin_lifetimes)\n",
        "plt.plot(bin_edges, exponential_decay(bin_edges, *popt), color='red')\n",
        "plt.xlabel(\"Lifetime\")\n",
        "plt.ylabel(\"Mean Lifetime in Bin\")\n",
        "plt.show()\n"
      ],
      "metadata": {
        "id": "n7xVrpv6TN9J",
        "outputId": "d8ed800d-f292-45f2-bf28-739abc6695eb",
        "colab": {
          "base_uri": "https://localhost:8080/",
          "height": 503
        }
      },
      "execution_count": 42,
      "outputs": [
        {
          "output_type": "stream",
          "name": "stderr",
          "text": [
            "/usr/local/lib/python3.10/dist-packages/scipy/optimize/_minpack_py.py:1010: OptimizeWarning: Covariance of the parameters could not be estimated\n",
            "  warnings.warn('Covariance of the parameters could not be estimated',\n"
          ]
        },
        {
          "output_type": "stream",
          "name": "stdout",
          "text": [
            "Fitted parameters: [1.00000000e+00 1.00000000e+00 9.99775425e+03]\n"
          ]
        },
        {
          "output_type": "display_data",
          "data": {
            "text/plain": [
              "<Figure size 640x480 with 1 Axes>"
            ],
            "image/png": "[encoded data removed]"
          },
          "metadata": {}
        }
      ]
    }
  ]
}